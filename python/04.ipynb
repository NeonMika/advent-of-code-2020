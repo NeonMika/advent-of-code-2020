{
 "cells": [
  {
   "cell_type": "code",
   "execution_count": 1,
   "metadata": {},
   "outputs": [],
   "source": [
    "from dataclasses import dataclass\n",
    "import itertools\n",
    "import math\n",
    "import re\n",
    "import typing"
   ]
  },
  {
   "cell_type": "code",
   "execution_count": 2,
   "metadata": {},
   "outputs": [],
   "source": [
    "# Utility"
   ]
  },
  {
   "cell_type": "code",
   "execution_count": 3,
   "metadata": {},
   "outputs": [],
   "source": [
    "def res(day, level, result):\n",
    "    print(f'Result of [Day {day}, Level {level}]: {result}')"
   ]
  },
  {
   "cell_type": "code",
   "execution_count": 4,
   "metadata": {},
   "outputs": [],
   "source": [
    "# Day 4"
   ]
  },
  {
   "cell_type": "code",
   "execution_count": 5,
   "metadata": {},
   "outputs": [],
   "source": [
    "with open('../data/04_input.txt') as f:\n",
    "    input = f.read()"
   ]
  },
  {
   "cell_type": "code",
   "execution_count": 6,
   "metadata": {},
   "outputs": [],
   "source": [
    "@dataclass\n",
    "class Passport:\n",
    "    byr : typing.Optional[int] # (Birth Year)\n",
    "    iyr : typing.Optional[int] # (Issue Year)\n",
    "    eyr : typing.Optional[int] # (Expiration Year)\n",
    "    hgt : typing.Optional[str] # (Height)\n",
    "    hcl : typing.Optional[str] # (Hair Color)\n",
    "    ecl : typing.Optional[str] # (Eye Color)\n",
    "    pid : typing.Optional[str] # (Passport ID)\n",
    "    cid : typing.Optional[str] # (Country ID)\n",
    "    \n",
    "    def is_valid(self):\n",
    "        return self.byr != None and self.iyr != None and self.eyr != None and self.hgt != None and self.hcl != None and self.ecl != None and self.pid != None\n",
    "    \n",
    "    @classmethod\n",
    "    def from_block(cls, block):\n",
    "        ## hella inefficient, but I don't want to mix up level 1 and level 2\n",
    "        byr_rgx = re.compile(r\"byr:(\\d*)\")\n",
    "        iyr_rgx = re.compile(r\"iyr:(\\d*)\")\n",
    "        eyr_rgx = re.compile(r\"eyr:(\\d*)\")\n",
    "        hgt_rgx = re.compile(r\"hgt:(\\.*)\")\n",
    "        hcl_rgx = re.compile(r\"hcl:(\\.*)\")\n",
    "        ecl_rgx = re.compile(r\"ecl:(\\.*)\")\n",
    "        pid_rgx = re.compile(r\"pid:(\\.*)\")\n",
    "        cid_rgx = re.compile(r\"cid:(\\w*)\")\n",
    "        \n",
    "        return cls(\n",
    "            int(res.group(1)) if (res := byr_rgx.search(block)) else None,\n",
    "            int(res.group(1)) if (res := iyr_rgx.search(block)) else None,\n",
    "            int(res.group(1)) if (res := eyr_rgx.search(block)) else None,\n",
    "            res.group(1) if (res := hgt_rgx.search(block)) else None,\n",
    "            res.group(1) if (res := hcl_rgx.search(block)) else None,\n",
    "            res.group(1) if (res := ecl_rgx.search(block)) else None,\n",
    "            res.group(1) if (res := pid_rgx.search(block)) else None,\n",
    "            int(res.group(1)) if (res := cid_rgx.search(block)) else None)"
   ]
  },
  {
   "cell_type": "code",
   "execution_count": 7,
   "metadata": {},
   "outputs": [],
   "source": [
    "@dataclass\n",
    "class PassportDetailed:\n",
    "    byr : typing.Optional[int] # (Birth Year)\n",
    "    iyr : typing.Optional[int] # (Issue Year)\n",
    "    eyr : typing.Optional[int] # (Expiration Year)\n",
    "    hgt : typing.Optional[int] # (Height)\n",
    "    hgt_type : typing.Optional[str] # (Height type), own\n",
    "    hcl : typing.Optional[str] # (Hair Color)\n",
    "    ecl : typing.Optional[str] # (Eye Color)\n",
    "    pid : typing.Optional[str] # (Passport ID)\n",
    "    cid : typing.Optional[str] # (Country ID)\n",
    "    \n",
    "    def is_valid(self):\n",
    "        return self.byr != None and self.iyr != None and self.eyr != None and self.hgt != None and self.hcl != None and self.ecl != None and self.pid != None\n",
    "    \n",
    "    @classmethod\n",
    "    def from_block(cls, block):\n",
    "        ## hella inefficient, but I don't want to mix up level 1 and level 2\n",
    "        byr_rgx = re.compile(r\"byr:(\\d\\d\\d\\d)(?:\\D|$)\")\n",
    "        iyr_rgx = re.compile(r\"iyr:(\\d\\d\\d\\d)(?:\\D|$)\")\n",
    "        eyr_rgx = re.compile(r\"eyr:(\\d\\d\\d\\d)(?:\\D|$)\")\n",
    "        hgt_rgx = re.compile(r\"hgt:(\\d+)[in|cm]\")\n",
    "        hgt_type_rgx = re.compile(r\"hgt:\\d+(in|cm)\")\n",
    "        hcl_rgx = re.compile(r\"hcl:(#[0-9a-f]{6})\")\n",
    "        ecl_rgx = re.compile(r\"ecl:(amb|blu|brn|gry|grn|hzl|oth)\")\n",
    "        pid_rgx = re.compile(r\"pid:(\\d{9})(?:\\D|$)\")\n",
    "        cid_rgx = re.compile(r\"cid:(\\w*)\")\n",
    "        \n",
    "        byr = byr if (res := byr_rgx.search(block)) and 1920 <= (byr := int(res.group(1))) <= 2002 else None\n",
    "        iyr = iyr if (res := iyr_rgx.search(block)) and 2010 <= (iyr := int(res.group(1))) <= 2020 else None\n",
    "        eyr = eyr if (res := eyr_rgx.search(block)) and 2020 <= (eyr := int(res.group(1))) <= 2030 else None\n",
    "        hgt = int(res.group(1)) if (res := hgt_rgx.search(block)) else None\n",
    "        hgt_type = res.group(1) if (res := hgt_type_rgx.search(block)) else None\n",
    "        hcl = res.group(1) if (res := hcl_rgx.search(block)) else None\n",
    "        ecl = res.group(1) if (res := ecl_rgx.search(block)) else None\n",
    "        pid = int(res.group(1)) if (res := pid_rgx.search(block)) else None\n",
    "        cid = res.group(1) if (res := cid_rgx.search(block)) else None\n",
    "        \n",
    "        if(hgt_type is not None and hgt is not None):\n",
    "            if(hgt_type == 'cm'):\n",
    "                if(hgt < 150 or hgt > 193):\n",
    "                    hgt = None\n",
    "                    hgt_type = None\n",
    "            else: #hgt_type == 'in'\n",
    "                if(hgt < 59 or hgt > 76):\n",
    "                    hgt = None\n",
    "                    hgt_type = None                   \n",
    "        else:\n",
    "            hgt = None\n",
    "            hgt_type = None\n",
    "        \n",
    "        return cls(byr, iyr, eyr, hgt, hgt_type, hcl, ecl, pid, cid)"
   ]
  },
  {
   "cell_type": "code",
   "execution_count": 8,
   "metadata": {},
   "outputs": [],
   "source": [
    "# Level 3.1"
   ]
  },
  {
   "cell_type": "code",
   "execution_count": 9,
   "metadata": {},
   "outputs": [],
   "source": [
    "data = [Passport.from_block(block) for block in input.split('\\n\\n') if len(block) > 0]"
   ]
  },
  {
   "cell_type": "code",
   "execution_count": 10,
   "metadata": {},
   "outputs": [
    {
     "output_type": "stream",
     "name": "stdout",
     "text": [
      "Result of [Day 4, Level 1]: 260\n"
     ]
    }
   ],
   "source": [
    "res(4, 1, sum(int(passport.is_valid()) for passport in data))"
   ]
  },
  {
   "cell_type": "code",
   "execution_count": 11,
   "metadata": {},
   "outputs": [],
   "source": [
    "# Level 4.2"
   ]
  },
  {
   "cell_type": "code",
   "execution_count": 12,
   "metadata": {},
   "outputs": [],
   "source": [
    "data = [PassportDetailed.from_block(block) for block in input.split('\\n\\n') if len(block) > 0]"
   ]
  },
  {
   "cell_type": "code",
   "execution_count": 13,
   "metadata": {},
   "outputs": [
    {
     "output_type": "stream",
     "name": "stdout",
     "text": [
      "Result of [Day 4, Level 2]: 153\n"
     ]
    }
   ],
   "source": [
    "res(4, 2, sum(int(passport.is_valid()) for passport in data))"
   ]
  }
 ],
 "metadata": {
  "kernelspec": {
   "display_name": "Python 3",
   "language": "python",
   "name": "python3"
  },
  "language_info": {
   "codemirror_mode": {
    "name": "ipython",
    "version": 3
   },
   "file_extension": ".py",
   "mimetype": "text/x-python",
   "name": "python",
   "nbconvert_exporter": "python",
   "pygments_lexer": "ipython3",
   "version": "3.8.3-final"
  }
 },
 "nbformat": 4,
 "nbformat_minor": 4
}