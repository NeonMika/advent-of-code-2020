{
 "cells": [
  {
   "cell_type": "code",
   "execution_count": 1,
   "metadata": {},
   "outputs": [],
   "source": [
    "from dataclasses import dataclass\n",
    "import itertools\n",
    "import math\n",
    "import re\n",
    "import typing"
   ]
  },
  {
   "cell_type": "code",
   "execution_count": 2,
   "metadata": {},
   "outputs": [],
   "source": [
    "# Utility"
   ]
  },
  {
   "cell_type": "code",
   "execution_count": 3,
   "metadata": {},
   "outputs": [],
   "source": [
    "def res(day, level, result):\n",
    "    print(f'Result of [Day {day}, Level {level}]: {result}')"
   ]
  },
  {
   "cell_type": "code",
   "execution_count": 4,
   "metadata": {},
   "outputs": [],
   "source": [
    "# Day 5"
   ]
  },
  {
   "cell_type": "code",
   "execution_count": 5,
   "metadata": {},
   "outputs": [],
   "source": [
    "with open('../data/05_input.txt') as f:\n",
    "    input = f.read()"
   ]
  },
  {
   "cell_type": "code",
   "execution_count": 6,
   "metadata": {},
   "outputs": [],
   "source": [
    "@dataclass\n",
    "class Seat:\n",
    "    binary : str\n",
    "        \n",
    "    @classmethod\n",
    "    def binaryPos(cls, data, low, high, i_start_incl, i_end_excl, lowSym):\n",
    "        for i in range(i_start_incl, i_end_excl):\n",
    "            if data[i] == lowSym:\n",
    "                high = int((low + high) / 2)\n",
    "            else:\n",
    "                low = int((low + high + 1) / 2)\n",
    "        return low\n",
    "    \n",
    "    # rows 0 through 127\n",
    "    def row(self):\n",
    "        return Seat.binaryPos(self.binary, 0, 127, 0, 7, 'F')\n",
    "    \n",
    "    # columns 0 through 7\n",
    "    def col(self):\n",
    "        return Seat.binaryPos(self.binary, 0, 7, 7, 10, 'L')\n",
    "    \n",
    "    def id(self):\n",
    "        return self.row() * 8 + self.col()"
   ]
  },
  {
   "cell_type": "code",
   "execution_count": 7,
   "metadata": {},
   "outputs": [],
   "source": [
    "data = [Seat(binary) for binary in input.split('\\n') if len(binary) > 0]"
   ]
  },
  {
   "cell_type": "code",
   "execution_count": 8,
   "metadata": {},
   "outputs": [],
   "source": [
    "# Level 5.1"
   ]
  },
  {
   "cell_type": "code",
   "execution_count": 9,
   "metadata": {},
   "outputs": [
    {
     "output_type": "stream",
     "name": "stdout",
     "text": [
      "Result of [Day 5, Level 1]: 880\n"
     ]
    }
   ],
   "source": [
    "res(5, 1, max(seat.id() for seat in data))"
   ]
  },
  {
   "cell_type": "code",
   "execution_count": 10,
   "metadata": {},
   "outputs": [],
   "source": [
    "# Level 5.2"
   ]
  },
  {
   "cell_type": "code",
   "execution_count": 11,
   "metadata": {},
   "outputs": [
    {
     "output_type": "stream",
     "name": "stdout",
     "text": [
      "Result of [Day 5, Level 2]: 731\n"
     ]
    }
   ],
   "source": [
    "sortedData = sorted(seat.id() for seat in data)\n",
    "missing = next(x + 1 for (x, y) in zip(sortedData, sortedData[1:]) if y - x != 1)\n",
    "res(5, 2, missing)"
   ]
  }
 ],
 "metadata": {
  "kernelspec": {
   "display_name": "Python 3",
   "language": "python",
   "name": "python3"
  },
  "language_info": {
   "codemirror_mode": {
    "name": "ipython",
    "version": 3
   },
   "file_extension": ".py",
   "mimetype": "text/x-python",
   "name": "python",
   "nbconvert_exporter": "python",
   "pygments_lexer": "ipython3",
   "version": "3.8.3-final"
  }
 },
 "nbformat": 4,
 "nbformat_minor": 4
}