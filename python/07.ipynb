{
 "cells": [
  {
   "cell_type": "code",
   "execution_count": 1,
   "metadata": {},
   "outputs": [],
   "source": [
    "from dataclasses import dataclass\n",
    "import itertools\n",
    "import math\n",
    "import re\n",
    "import typing"
   ]
  },
  {
   "cell_type": "code",
   "execution_count": 2,
   "metadata": {},
   "outputs": [],
   "source": [
    "def res(day, level, result):\n",
    "    print(f'Result of [Day {day}, Level {level}]: {result}')"
   ]
  },
  {
   "cell_type": "code",
   "execution_count": 3,
   "metadata": {},
   "outputs": [],
   "source": [
    "with open('../data/07_input.txt') as f:\n",
    "    input = f.read()"
   ]
  },
  {
   "cell_type": "code",
   "execution_count": 4,
   "metadata": {},
   "outputs": [],
   "source": [
    "# all methods assume no loops\n",
    "class Bag:\n",
    "    overall_regex = re.compile(r\"(.*) bags contain (?:no other bags|(.*)).\")\n",
    "    ref_regex = re.compile(r\"(\\d+) (.*) (?:bag|bags)\")\n",
    "\n",
    "    def __init__(self, name, pointsMap):\n",
    "        self.name : str = name\n",
    "        self.pointsMap : Map[str, int] = pointsMap\n",
    "        self.points = [x for name, count in self.pointsMap.items() for x in [name]*count]\n",
    "        self.pointedMap : Map[str, int] = {}\n",
    "\n",
    "    @classmethod\n",
    "    def fromString(cls, string):\n",
    "        name, containsPart = cls.overall_regex.search(string).groups()\n",
    "        if(containsPart):\n",
    "            points = {match.group(2) : int(match.group(1)) \n",
    "            for match in [cls.ref_regex.search(part) for part in containsPart.split(\", \")]}\n",
    "        else:\n",
    "            points = dict() \n",
    "        return cls(name, points)\n",
    "\n",
    "    def ancestors(self, bag_map):\n",
    "        if(not self.pointedMap):\n",
    "            return set()\n",
    "        else:\n",
    "            recursion = [bag_map[key].ancestors(bag_map) for key in self.pointedMap.keys()]\n",
    "            return set().union(*recursion, self.pointedMap.keys())  \n",
    "\n",
    "    def descendentsMultiple(self, bag_map):\n",
    "        if(not self.points):\n",
    "            return []\n",
    "        else:\n",
    "            recursion = [x for key in self.points for x in bag_map[key].descendentsMultiple(bag_map)]\n",
    "            return recursion + self.points\n",
    "    \n",
    "    def __str__(self):\n",
    "        return f'{self.name}\\n  ---> {self.to}\\n  <--- {self.pointed}'\n",
    "    def __repr__(self):\n",
    "        return self.__str__()"
   ]
  },
  {
   "cell_type": "code",
   "execution_count": 5,
   "metadata": {
    "tags": []
   },
   "outputs": [],
   "source": [
    "data = [Bag.fromString(x) for x in input.split('\\n') if len(x) > 0]\n",
    "bag_map = {bag.name : bag for bag in data}\n",
    "for bag in data:\n",
    "    for (to_name, to_count) in bag.pointsMap.items():\n",
    "        bag_map[to_name].pointedMap[bag.name] = to_count"
   ]
  },
  {
   "cell_type": "code",
   "execution_count": 6,
   "metadata": {},
   "outputs": [
    {
     "output_type": "stream",
     "name": "stdout",
     "text": [
      "Result of [Day 7, Level 1]: 372\n"
     ]
    }
   ],
   "source": [
    "shiny_gold_bag = bag_map['shiny gold']\n",
    "ancestors = shiny_gold_bag.ancestors(bag_map)\n",
    "\n",
    "res(7, 1, len(ancestors))"
   ]
  },
  {
   "cell_type": "code",
   "execution_count": 7,
   "metadata": {
    "tags": []
   },
   "outputs": [
    {
     "output_type": "stream",
     "name": "stdout",
     "text": [
      "Result of [Day 7, Level 2]: 8015\n"
     ]
    }
   ],
   "source": [
    "shiny_gold_bag = bag_map['shiny gold']\n",
    "descendants = shiny_gold_bag.descendentsMultiple(bag_map)\n",
    "\n",
    "res(7, 2, len(descendants))"
   ]
  }
 ],
 "metadata": {
  "kernelspec": {
   "display_name": "Python 3",
   "language": "python",
   "name": "python3"
  },
  "language_info": {
   "codemirror_mode": {
    "name": "ipython",
    "version": 3
   },
   "file_extension": ".py",
   "mimetype": "text/x-python",
   "name": "python",
   "nbconvert_exporter": "python",
   "pygments_lexer": "ipython3",
   "version": "3.8.3-final"
  }
 },
 "nbformat": 4,
 "nbformat_minor": 4
}