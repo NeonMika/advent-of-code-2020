{
 "cells": [
  {
   "cell_type": "code",
   "execution_count": 1,
   "metadata": {},
   "outputs": [],
   "source": [
    "from dataclasses import dataclass\n",
    "from dataclasses import field\n",
    "from enum import Enum\n",
    "from enum import IntEnum\n",
    "import itertools\n",
    "import math\n",
    "import random\n",
    "import re\n",
    "import typing"
   ]
  },
  {
   "cell_type": "code",
   "execution_count": 2,
   "metadata": {},
   "outputs": [],
   "source": [
    "def res(day, level, result):\n",
    "    print(f'Result of [Day {day}, Level {level}]: {result}')"
   ]
  },
  {
   "cell_type": "code",
   "execution_count": 3,
   "metadata": {},
   "outputs": [],
   "source": [
    "with open('../data/08_input_test.txt') as f:\n",
    "    test_input = f.read()\n",
    "\n",
    "with open('../data/08_input.txt') as f:\n",
    "    input = f.read()"
   ]
  },
  {
   "cell_type": "code",
   "execution_count": 4,
   "metadata": {},
   "outputs": [],
   "source": [
    "@dataclass\n",
    "class VM:\n",
    "    acc : int = 0\n",
    "    pc : int  = 0\n",
    "    performed_pcs : list = field(default_factory=list)\n",
    "\n",
    "    # code  ... positional arguments\n",
    "    # argv  ... vararg argument\n",
    "    # debug ... keyword-only argument\n",
    "    def perform(self, code, *argv, debug=False):\n",
    "        if isinstance(code, str):\n",
    "            # single OpCode\n",
    "            if(debug):\n",
    "                print('Perform OpCode:', code, 'with aguments', *argv if argv else '[no arguments]')\n",
    "            self.performed_pcs.append(self.pc)\n",
    "            self._op_codes[code](self, *argv)\n",
    "            if(debug):\n",
    "                print('State afterward:', str(self))\n",
    "        else:\n",
    "            # line of code\n",
    "            if(debug):\n",
    "                print('Perform code:', code)\n",
    "            while self.pc not in self.performed_pcs:\n",
    "                if(self.pc + 1 == len(code)):\n",
    "                    # Reached end of code -> Successful program run\n",
    "                    return True\n",
    "                elif(self.pc < 0 or len(code) < self.pc):\n",
    "                    # Jumped out of bounds of code  -> Unsuccessful program run\n",
    "                    return False\n",
    "                # pc is valdi, process the code line\n",
    "                if(debug):\n",
    "                    print('Process line:')\n",
    "                parts = code[self.pc].split()\n",
    "                op_code = parts[0]\n",
    "                args = [int(x) for x in parts[1:]]\n",
    "                self.perform(op_code, *args, debug = debug)\n",
    "            # Repeating operation -> Unsuccessful program run\n",
    "            return False\n",
    "\n",
    "    def _acc_f(self, x):\n",
    "        self.acc = self.acc + x\n",
    "        self.pc  = self.pc + 1\n",
    "    def _jmp_f(self, x):\n",
    "        self.pc = self.pc + x\n",
    "    def _nop_f(self, x):\n",
    "        self.pc = self.pc + 1\n",
    "    \n",
    "    _op_codes = {'acc': _acc_f, 'jmp': _jmp_f, 'nop': _nop_f}"
   ]
  },
  {
   "cell_type": "code",
   "execution_count": 5,
   "metadata": {},
   "outputs": [
    {
     "output_type": "stream",
     "name": "stdout",
     "text": [
      "VM(acc=0, pc=0, performed_pcs=[])\nPerform OpCode: acc with aguments 4\nState afterward: VM(acc=4, pc=1, performed_pcs=[0])\nPerform OpCode: nop with aguments 0\nState afterward: VM(acc=4, pc=2, performed_pcs=[0, 1])\nPerform OpCode: nop with aguments 1\nState afterward: VM(acc=4, pc=3, performed_pcs=[0, 1, 2])\nPerform OpCode: jmp with aguments -3\nState afterward: VM(acc=4, pc=0, performed_pcs=[0, 1, 2, 3])\nVM(acc=4, pc=0, performed_pcs=[0, 1, 2, 3])\n===\n===\nVM(acc=0, pc=0, performed_pcs=[])\nPerform code: ['acc 4', 'nop 0', 'nop 1', 'jmp -3']\nProcess line:\nPerform OpCode: acc with aguments 4\nState afterward: VM(acc=4, pc=1, performed_pcs=[0])\nProcess line:\nPerform OpCode: nop with aguments 0\nState afterward: VM(acc=4, pc=2, performed_pcs=[0, 1])\nProcess line:\nPerform OpCode: nop with aguments 1\nState afterward: VM(acc=4, pc=3, performed_pcs=[0, 1, 2])\nVM(acc=4, pc=3, performed_pcs=[0, 1, 2])\nSuccessful: True\n"
     ]
    }
   ],
   "source": [
    "# Test singel op code\n",
    "vm = VM()\n",
    "print(vm)\n",
    "vm.perform('acc', 4, debug=True)\n",
    "vm.perform('nop', 0, debug=True)\n",
    "vm.perform('nop', 1, debug=True)\n",
    "vm.perform('jmp' , -3, debug=True)\n",
    "print(vm)\n",
    "\n",
    "print(\"===\")\n",
    "print(\"===\")\n",
    "\n",
    "# Test code array\n",
    "vm = VM()\n",
    "print(vm)\n",
    "successful = vm.perform(['acc 4', 'nop 0', 'nop 1', 'jmp -3'], debug=True)\n",
    "print(vm)\n",
    "print('Successful:', successful)"
   ]
  },
  {
   "cell_type": "code",
   "execution_count": 6,
   "metadata": {
    "tags": []
   },
   "outputs": [
    {
     "output_type": "stream",
     "name": "stdout",
     "text": [
      "Perform code: ['nop +0', 'acc +1', 'jmp +4', 'acc +3', 'jmp -3', 'acc -99', 'acc +1', 'jmp -4', 'acc +6']\nProcess line:\nPerform OpCode: nop with aguments 0\nState afterward: VM(acc=0, pc=1, performed_pcs=[0])\nProcess line:\nPerform OpCode: acc with aguments 1\nState afterward: VM(acc=1, pc=2, performed_pcs=[0, 1])\nProcess line:\nPerform OpCode: jmp with aguments 4\nState afterward: VM(acc=1, pc=6, performed_pcs=[0, 1, 2])\nProcess line:\nPerform OpCode: acc with aguments 1\nState afterward: VM(acc=2, pc=7, performed_pcs=[0, 1, 2, 6])\nProcess line:\nPerform OpCode: jmp with aguments -4\nState afterward: VM(acc=2, pc=3, performed_pcs=[0, 1, 2, 6, 7])\nProcess line:\nPerform OpCode: acc with aguments 3\nState afterward: VM(acc=5, pc=4, performed_pcs=[0, 1, 2, 6, 7, 3])\nProcess line:\nPerform OpCode: jmp with aguments -3\nState afterward: VM(acc=5, pc=1, performed_pcs=[0, 1, 2, 6, 7, 3, 4])\nSuccessful: False\nResult of [Day 8, Level Test]: 5\n"
     ]
    }
   ],
   "source": [
    "# Test input\n",
    "vm = VM()\n",
    "successfull = vm.perform(test_input.split('\\n'), debug=True)\n",
    "print('Successful:', successfull)\n",
    "res(8, 'Test', vm.acc)"
   ]
  },
  {
   "cell_type": "code",
   "execution_count": 7,
   "metadata": {
    "tags": []
   },
   "outputs": [
    {
     "output_type": "stream",
     "name": "stdout",
     "text": [
      "Result of [Day 8, Level 1]: 1137\n"
     ]
    }
   ],
   "source": [
    "# Level 1 \n",
    "vm = VM()\n",
    "vm.perform(input.split('\\n'))\n",
    "\n",
    "res(8, 1, vm.acc)"
   ]
  },
  {
   "cell_type": "code",
   "execution_count": 8,
   "metadata": {},
   "outputs": [
    {
     "output_type": "stream",
     "name": "stdout",
     "text": [
      "Result of [Day 8, Level 2]: 1125\n"
     ]
    }
   ],
   "source": [
    "# Level 2\n",
    "lines = input.split('\\n')\n",
    "successfull = False\n",
    "for i in range(0, len(lines)):\n",
    "    transformed_lines = lines.copy()\n",
    "    if(transformed_lines[i][:3] == 'nop'):\n",
    "        transformed_lines[i] = transformed_lines[i].replace('nop', 'jmp')\n",
    "    else:\n",
    "        transformed_lines[i] = transformed_lines[i].replace('jmp', 'nop')\n",
    "    \n",
    "    vm = VM()\n",
    "    successfull = vm.perform(transformed_lines)\n",
    "    if successfull:\n",
    "        res(8, 2, vm.acc)"
   ]
  }
 ],
 "metadata": {
  "kernelspec": {
   "display_name": "Python 3",
   "language": "python",
   "name": "python3"
  },
  "language_info": {
   "codemirror_mode": {
    "name": "ipython",
    "version": 3
   },
   "file_extension": ".py",
   "mimetype": "text/x-python",
   "name": "python",
   "nbconvert_exporter": "python",
   "pygments_lexer": "ipython3",
   "version": "3.8.3-final"
  }
 },
 "nbformat": 4,
 "nbformat_minor": 4
}