{
 "cells": [
  {
   "cell_type": "code",
   "execution_count": 1,
   "metadata": {},
   "outputs": [],
   "source": [
    "from dataclasses import dataclass\n",
    "from dataclasses import field\n",
    "from enum import Enum\n",
    "from enum import IntEnum\n",
    "import itertools\n",
    "import math\n",
    "import random\n",
    "import re\n",
    "import typing"
   ]
  },
  {
   "cell_type": "code",
   "execution_count": 2,
   "metadata": {},
   "outputs": [],
   "source": [
    "def res(day, level, result):\n",
    "    print(f'Result of [Day {day}, Level {level}]: {result}')"
   ]
  },
  {
   "cell_type": "code",
   "execution_count": 3,
   "metadata": {},
   "outputs": [],
   "source": [
    "with open('../data/09_input_test.txt') as f:\n",
    "    test_input = f.read()\n",
    "\n",
    "with open('../data/09_input.txt') as f:\n",
    "    input = f.read()\n",
    "\n",
    "test_data = [int(x) for x in test_input.split('\\n') if len(x) > 0]\n",
    "data = [int(x) for x in input.split('\\n') if len(x) > 0]\n"
   ]
  },
  {
   "cell_type": "code",
   "execution_count": 4,
   "metadata": {},
   "outputs": [],
   "source": [
    "def invalids(data, preamble):\n",
    "    return (num for idx, num in enumerate(data[preamble:]) \n",
    "                if num not in {sum(pair) for pair in itertools.combinations(data[idx:idx+preamble], 2)})"
   ]
  },
  {
   "cell_type": "code",
   "execution_count": 5,
   "metadata": {
    "tags": []
   },
   "outputs": [
    {
     "output_type": "stream",
     "name": "stdout",
     "text": [
      "Result of [Day 8, Level Test-1]: 127\n"
     ]
    }
   ],
   "source": [
    "# Test input\n",
    "res(8, 'Test-1', next(invalids(test_data, 5)))"
   ]
  },
  {
   "cell_type": "code",
   "execution_count": 6,
   "metadata": {
    "tags": []
   },
   "outputs": [
    {
     "output_type": "stream",
     "name": "stdout",
     "text": [
      "Result of [Day 9, Level 1]: 20874512\n"
     ]
    }
   ],
   "source": [
    "# Level 1 \n",
    "res(9, 1, next(invalids(data, 25)))"
   ]
  },
  {
   "cell_type": "code",
   "execution_count": 7,
   "metadata": {
    "tags": []
   },
   "outputs": [
    {
     "output_type": "stream",
     "name": "stdout",
     "text": [
      "Result of [Day 9, Level 2]: 3012420\n"
     ]
    }
   ],
   "source": [
    "# Level 2\n",
    "goal = next(invalids(data, 25))\n",
    "gen = (data[start:start+width]\n",
    "       for start in range(0, len(data) - 1)\n",
    "       for width in range(2, len(data) + 1 - start)\n",
    "       if sum(data[start:start+width]) == goal)\n",
    "neighbors = next(gen)\n",
    "res(9, 2, min(neighbors) + max(neighbors))"
   ]
  }
 ],
 "metadata": {
  "kernelspec": {
   "display_name": "Python 3",
   "language": "python",
   "name": "python3"
  },
  "language_info": {
   "codemirror_mode": {
    "name": "ipython",
    "version": 3
   },
   "file_extension": ".py",
   "mimetype": "text/x-python",
   "name": "python",
   "nbconvert_exporter": "python",
   "pygments_lexer": "ipython3",
   "version": "3.8.3-final"
  }
 },
 "nbformat": 4,
 "nbformat_minor": 4
}