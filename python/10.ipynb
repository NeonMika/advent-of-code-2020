{
 "cells": [
  {
   "cell_type": "code",
   "execution_count": 1,
   "metadata": {},
   "outputs": [],
   "source": [
    "from dataclasses import dataclass\n",
    "from dataclasses import field\n",
    "from enum import Enum\n",
    "from enum import IntEnum\n",
    "import functools\n",
    "import itertools\n",
    "import math\n",
    "import random\n",
    "import re\n",
    "import typing"
   ]
  },
  {
   "cell_type": "code",
   "execution_count": 2,
   "metadata": {},
   "outputs": [],
   "source": [
    "def res(day, level, result):\n",
    "    print(f'Result of [Day {day}, Level {level}]: {result}')"
   ]
  },
  {
   "cell_type": "code",
   "execution_count": 3,
   "metadata": {},
   "outputs": [],
   "source": [
    "with open('../data/10_input_test.txt') as f:\n",
    "    test_input = f.read()\n",
    "\n",
    "with open('../data/10_input.txt') as f:\n",
    "    input = f.read()\n",
    "\n",
    "def process(content):\n",
    "    data = [int(x) for x in content.split('\\n') if len(x) > 0]\n",
    "    return sorted(data + [0, max(data) + 3])\n",
    "\n",
    "test_data = process(test_input)\n",
    "data = process(input)\n"
   ]
  },
  {
   "cell_type": "code",
   "execution_count": 4,
   "metadata": {},
   "outputs": [],
   "source": [
    "def level1(data):\n",
    "    l = data.copy()\n",
    "    diffs = [a-b for a, b in zip(l[1:], l[:-1])]\n",
    "    # Other alternatives: https://stackoverflow.com/questions/2600191/how-can-i-count-the-occurrences-of-a-list-item\n",
    "    return diffs.count(1) * diffs.count(3)"
   ]
  },
  {
   "source": [
    "def level2(list):\n",
    "    @functools.lru_cache(maxsize=None)\n",
    "    def descent(start):\n",
    "        if start + 1 == len(list):\n",
    "            return 1\n",
    "        else:\n",
    "            new_start = start + 1\n",
    "            sum = 0\n",
    "            while(new_start < len(list) and list[new_start] - list[start] <= 3):\n",
    "                sum = sum + descent(new_start)\n",
    "                new_start = new_start + 1\n",
    "            return sum\n",
    "    return descent(0)"
   ],
   "cell_type": "code",
   "metadata": {},
   "execution_count": 5,
   "outputs": []
  },
  {
   "cell_type": "code",
   "execution_count": 6,
   "metadata": {
    "tags": []
   },
   "outputs": [
    {
     "output_type": "stream",
     "name": "stdout",
     "text": [
      "Result of [Day 10, Level Test-1]: 35\n"
     ]
    }
   ],
   "source": [
    "# Test input - Level 1\n",
    "res(10, 'Test-1', level1(test_data))"
   ]
  },
  {
   "cell_type": "code",
   "execution_count": 7,
   "metadata": {
    "tags": []
   },
   "outputs": [
    {
     "output_type": "stream",
     "name": "stdout",
     "text": [
      "Result of [Day 10, Level 1]: 1656\n"
     ]
    }
   ],
   "source": [
    "# Level 1 \n",
    "res(10, 1, level1(data))"
   ]
  },
  {
   "cell_type": "code",
   "execution_count": 8,
   "metadata": {
    "tags": []
   },
   "outputs": [
    {
     "output_type": "stream",
     "name": "stdout",
     "text": [
      "Result of [Day 10, Level Test-2]: 8\n"
     ]
    }
   ],
   "source": [
    "# Test input - Level 2 \n",
    "res(10, 'Test-2', level2(test_data))"
   ]
  },
  {
   "cell_type": "code",
   "execution_count": 9,
   "metadata": {},
   "outputs": [
    {
     "output_type": "stream",
     "name": "stdout",
     "text": [
      "Result of [Day 10, Level 2]: 56693912375296\n"
     ]
    }
   ],
   "source": [
    "# Level 2 \n",
    "res(10, 2, level2(data))"
   ]
  }
 ],
 "metadata": {
  "kernelspec": {
   "display_name": "Python 3",
   "language": "python",
   "name": "python3"
  },
  "language_info": {
   "codemirror_mode": {
    "name": "ipython",
    "version": 3
   },
   "file_extension": ".py",
   "mimetype": "text/x-python",
   "name": "python",
   "nbconvert_exporter": "python",
   "pygments_lexer": "ipython3",
   "version": "3.8.3-final"
  }
 },
 "nbformat": 4,
 "nbformat_minor": 4
}