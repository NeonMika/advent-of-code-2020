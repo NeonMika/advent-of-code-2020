{
 "cells": [
  {
   "cell_type": "code",
   "execution_count": 1,
   "metadata": {},
   "outputs": [],
   "source": [
    "from dataclasses import dataclass\n",
    "from dataclasses import field\n",
    "from enum import Enum\n",
    "from enum import IntEnum\n",
    "import functools\n",
    "import itertools\n",
    "import math\n",
    "import numpy as np\n",
    "import random\n",
    "import re\n",
    "import typing"
   ]
  },
  {
   "cell_type": "code",
   "execution_count": 2,
   "metadata": {},
   "outputs": [],
   "source": [
    "def res(day, level, result):\n",
    "    print(f'Result of [Day {day}, Level {level}]: {result}')"
   ]
  },
  {
   "cell_type": "code",
   "execution_count": 3,
   "metadata": {},
   "outputs": [],
   "source": [
    "with open('../data/11_input_test.txt') as f:\n",
    "    test_input = f.read()\n",
    "\n",
    "with open('../data/11_input.txt') as f:\n",
    "    input = f.read()\n",
    "\n",
    "def process(content):\n",
    "    data = [[ch for ch in line] for line in content.split('\\n') if len(line) > 0]\n",
    "    return np.array(data)\n",
    "\n",
    "test_data = process(test_input)\n",
    "data = process(input)\n",
    "\n",
    "floor = '.'\n",
    "free = 'L'\n",
    "occupied = '#'"
   ]
  },
  {
   "cell_type": "code",
   "execution_count": 4,
   "metadata": {},
   "outputs": [],
   "source": [
    "def step1(arr):\n",
    "    next = arr.copy()\n",
    "    for (row, col), val in np.ndenumerate(arr):\n",
    "        from_row = max(row-1, 0)\n",
    "        from_col = max(col-1, 0)\n",
    "        neighborsAndCenter = arr[from_row:row+2, from_col:col+2]\n",
    "        occupiedNeighbors = (neighborsAndCenter == occupied).sum() - int(val == occupied)\n",
    "        nextState = val\n",
    "        if(val == free):\n",
    "            if(occupiedNeighbors == 0):\n",
    "                nextState = occupied            \n",
    "        elif(val == occupied):\n",
    "            if(occupiedNeighbors >= 4):\n",
    "                nextState = free\n",
    "        next[row, col] = nextState\n",
    "    return next\n",
    "\n",
    "def level1(arr):\n",
    "    prev = None\n",
    "    cur = arr\n",
    "    while(not np.array_equal(prev, cur)):\n",
    "        prev = cur\n",
    "        cur = step1(prev)\n",
    "    return cur"
   ]
  },
  {
   "source": [
    "Haha, wrong version implemented :D\n",
    "The following version does not lose vision once a seat (either L or #) is seen, but continues till the end of the array"
   ],
   "cell_type": "markdown",
   "metadata": {}
  },
  {
   "cell_type": "code",
   "execution_count": 5,
   "metadata": {},
   "outputs": [
    {
     "output_type": "execute_result",
     "data": {
      "text/plain": [
       "'def see(arr):\\n    return int((arr == occupied).sum() >= 1)\\n\\ndef step2(arr):\\n    next = arr.copy()\\n\\n    num_rows, num_cols = arr.shape\\n\\n    for (row, col), val in np.ndenumerate(arr):\\n        col_above = see(arr[:row,col])\\n        col_below = see(arr[row+1:,col])\\n        row_left = see(arr[row,:col])\\n        row_right = see(arr[row,col+1:])\\n        len = min(row, col)\\n        diag_top_left = see(arr[list(itertools.islice(dec_gen(row), len)), list(itertools.islice(dec_gen(col), len))])\\n        len = min(row, num_cols - col - 1)\\n        diag_top_right = see(arr[list(itertools.islice(dec_gen(row), len)), list(itertools.islice(inc_gen(col), len))])\\n        len = min(num_rows - row - 1, num_cols - col - 1)\\n        diag_bottom_right = see(arr[list(itertools.islice(inc_gen(row), len)), list(itertools.islice(inc_gen(col), len))])\\n        len = min(num_rows - row - 1, col)\\n        diag_bottom_left = see(arr[list(itertools.islice(inc_gen(row), len)), list(itertools.islice(dec_gen(col), len))])\\n        occupiedNeighbors = col_above + col_below + row_left + row_right + diag_top_left + diag_top_right + diag_bottom_right + diag_bottom_left\\n\\n        nextState = val\\n        if(val == free):\\n            if(occupiedNeighbors == 0):\\n                nextState = occupied            \\n        elif(val == occupied):\\n            if(occupiedNeighbors >= 5):\\n                nextState = free\\n        next[row, col] = nextState\\n    return next'"
      ]
     },
     "metadata": {},
     "execution_count": 5
    }
   ],
   "source": [
    "\"\"\"def see(arr):\n",
    "    return int((arr == occupied).sum() >= 1)\n",
    "\n",
    "def step2(arr):\n",
    "    next = arr.copy()\n",
    "\n",
    "    num_rows, num_cols = arr.shape\n",
    "\n",
    "    for (row, col), val in np.ndenumerate(arr):\n",
    "        col_above = see(arr[:row,col])\n",
    "        col_below = see(arr[row+1:,col])\n",
    "        row_left = see(arr[row,:col])\n",
    "        row_right = see(arr[row,col+1:])\n",
    "        len = min(row, col)\n",
    "        diag_top_left = see(arr[list(itertools.islice(dec_gen(row), len)), list(itertools.islice(dec_gen(col), len))])\n",
    "        len = min(row, num_cols - col - 1)\n",
    "        diag_top_right = see(arr[list(itertools.islice(dec_gen(row), len)), list(itertools.islice(inc_gen(col), len))])\n",
    "        len = min(num_rows - row - 1, num_cols - col - 1)\n",
    "        diag_bottom_right = see(arr[list(itertools.islice(inc_gen(row), len)), list(itertools.islice(inc_gen(col), len))])\n",
    "        len = min(num_rows - row - 1, col)\n",
    "        diag_bottom_left = see(arr[list(itertools.islice(inc_gen(row), len)), list(itertools.islice(dec_gen(col), len))])\n",
    "        occupiedNeighbors = col_above + col_below + row_left + row_right + diag_top_left + diag_top_right + diag_bottom_right + diag_bottom_left\n",
    "\n",
    "        nextState = val\n",
    "        if(val == free):\n",
    "            if(occupiedNeighbors == 0):\n",
    "                nextState = occupied            \n",
    "        elif(val == occupied):\n",
    "            if(occupiedNeighbors >= 5):\n",
    "                nextState = free\n",
    "        next[row, col] = nextState\n",
    "    return next\"\"\""
   ]
  },
  {
   "cell_type": "code",
   "execution_count": 6,
   "metadata": {},
   "outputs": [],
   "source": [
    "def inc_gen(x):\n",
    "    while True:\n",
    "        x = x+1\n",
    "        yield x\n",
    "\n",
    "def dec_gen(x):\n",
    "    while True:\n",
    "        x = x-1\n",
    "        yield x\n",
    "\n",
    "def see(arr):\n",
    "    for x in arr:\n",
    "        if(x == free):\n",
    "            return 0\n",
    "        elif(x == occupied):\n",
    "            return 1\n",
    "    return 0\n",
    "\n",
    "def step2(arr):\n",
    "    next = arr.copy()\n",
    "\n",
    "    num_rows, num_cols = arr.shape\n",
    "\n",
    "    for (row, col), val in np.ndenumerate(arr):\n",
    "        col_above = see(np.flip(arr[:row,col]))\n",
    "        col_below = see(arr[row+1:,col])\n",
    "        row_left = see(np.flip(arr[row,:col]))\n",
    "        row_right = see(arr[row,col+1:])\n",
    "        len = min(row, col)\n",
    "        diag_top_left = see(arr[list(itertools.islice(dec_gen(row), len)), list(itertools.islice(dec_gen(col), len))])\n",
    "        len = min(row, num_cols - col - 1)\n",
    "        diag_top_right = see(arr[list(itertools.islice(dec_gen(row), len)), list(itertools.islice(inc_gen(col), len))])\n",
    "        len = min(num_rows - row - 1, num_cols - col - 1)\n",
    "        diag_bottom_right = see(arr[list(itertools.islice(inc_gen(row), len)), list(itertools.islice(inc_gen(col), len))])\n",
    "        len = min(num_rows - row - 1, col)\n",
    "        diag_bottom_left = see(arr[list(itertools.islice(inc_gen(row), len)), list(itertools.islice(dec_gen(col), len))])\n",
    "        occupiedNeighbors = col_above + col_below + row_left + row_right + diag_top_left + diag_top_right + diag_bottom_right + diag_bottom_left\n",
    "\n",
    "        nextState = val\n",
    "        if(val == free):\n",
    "            if(occupiedNeighbors == 0):\n",
    "                nextState = occupied            \n",
    "        elif(val == occupied):\n",
    "            if(occupiedNeighbors >= 5):\n",
    "                nextState = free\n",
    "        next[row, col] = nextState\n",
    "    return next\n",
    "\n",
    "def level2(arr):\n",
    "    prev = None\n",
    "    cur = arr\n",
    "    while(not np.array_equal(prev, cur)):\n",
    "        prev = cur\n",
    "        cur = step2(prev)\n",
    "    return cur"
   ]
  },
  {
   "cell_type": "code",
   "execution_count": 7,
   "metadata": {
    "tags": []
   },
   "outputs": [
    {
     "output_type": "stream",
     "name": "stdout",
     "text": [
      "Result of [Day 11, Level Test-1]: 37\n"
     ]
    }
   ],
   "source": [
    "# Test input - Level 1\n",
    "res(11, 'Test-1', (level1(test_data) == '#').sum())"
   ]
  },
  {
   "cell_type": "code",
   "execution_count": 8,
   "metadata": {},
   "outputs": [
    {
     "output_type": "stream",
     "name": "stdout",
     "text": [
      "Result of [Day 11, Level 1]: 2113\n"
     ]
    }
   ],
   "source": [
    "# Level 1 \n",
    "res(11, 1, (level1(data) == '#').sum())"
   ]
  },
  {
   "cell_type": "code",
   "execution_count": 9,
   "metadata": {
    "tags": []
   },
   "outputs": [
    {
     "output_type": "stream",
     "name": "stdout",
     "text": [
      "Result of [Day 11, Level Test-2]: 26\n"
     ]
    }
   ],
   "source": [
    "# Test input - Level 2 \n",
    "res(11, 'Test-2', (level2(test_data) == '#').sum())"
   ]
  },
  {
   "cell_type": "code",
   "execution_count": 10,
   "metadata": {
    "tags": []
   },
   "outputs": [
    {
     "output_type": "stream",
     "name": "stdout",
     "text": [
      "Result of [Day 11, Level 2]: 1865\n"
     ]
    }
   ],
   "source": [
    "# Level 2 \n",
    "res(11, 2, (level2(data) == '#').sum())"
   ]
  }
 ],
 "metadata": {
  "kernelspec": {
   "display_name": "Python 3",
   "language": "python",
   "name": "python3"
  },
  "language_info": {
   "codemirror_mode": {
    "name": "ipython",
    "version": 3
   },
   "file_extension": ".py",
   "mimetype": "text/x-python",
   "name": "python",
   "nbconvert_exporter": "python",
   "pygments_lexer": "ipython3",
   "version": "3.8.3-final"
  }
 },
 "nbformat": 4,
 "nbformat_minor": 4
}